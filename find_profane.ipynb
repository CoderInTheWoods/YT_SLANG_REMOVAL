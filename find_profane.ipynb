{
 "cells": [
  {
   "cell_type": "code",
   "execution_count": 56,
   "metadata": {},
   "outputs": [
    {
     "name": "stdout",
     "output_type": "stream",
     "text": [
      "{'Fuck': (1, 0.9999999997128329), 'You': (0, 0.045984579034838824), 'Love': (0, 0.04648431505967564), 'Dick': (1, 0.9995567297706025)}\n"
     ]
    }
   ],
   "source": [
    "from profanity_check import predict, predict_prob\n",
    "\n",
    "def find_profane(words):\n",
    "    pred = []\n",
    "    prob = []\n",
    "    for w in words:\n",
    "        pred.append(list(predict([w]))[0])\n",
    "        prob.append(list(predict_prob([w]))[0]) \n",
    "    p_words = dict(zip(words,list(zip(pred,prob))))\n",
    "    print(p_words)\n",
    "\n",
    "l = ['Fuck','You','Love','Dick']\n",
    "find_profane(l)\n"
   ]
  },
  {
   "cell_type": "code",
   "execution_count": 36,
   "metadata": {},
   "outputs": [],
   "source": [
    "# predict_prob(['predict takes an array and returns 1 for each string which is offensive and 0 for non-offensive'])\n",
    "# # [0]\n",
    "\n",
    "# predict(['fuck you'])\n",
    "# # [1]\n",
    "\n",
    "# predict_prob(['predict_prob() takes an array and returns the probability each string is offensive'])\n",
    "# # [0.08686173]\n",
    "\n",
    "# predict_prob(['i love u'])\n",
    "# # [0.7618861]"
   ]
  },
  {
   "cell_type": "code",
   "execution_count": null,
   "metadata": {},
   "outputs": [],
   "source": []
  }
 ],
 "metadata": {
  "kernelspec": {
   "display_name": "Python 3",
   "language": "python",
   "name": "python3"
  },
  "language_info": {
   "codemirror_mode": {
    "name": "ipython",
    "version": 3
   },
   "file_extension": ".py",
   "mimetype": "text/x-python",
   "name": "python",
   "nbconvert_exporter": "python",
   "pygments_lexer": "ipython3",
   "version": "3.8.3"
  }
 },
 "nbformat": 4,
 "nbformat_minor": 4
}
