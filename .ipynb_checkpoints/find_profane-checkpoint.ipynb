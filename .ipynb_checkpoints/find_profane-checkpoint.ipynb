{
 "cells": [
  {
   "cell_type": "code",
   "execution_count": 7,
   "metadata": {},
   "outputs": [
    {
     "data": {
      "text/plain": [
       "{1: 0.9999999997128329, 0: 0.04648431505967564}"
      ]
     },
     "execution_count": 7,
     "metadata": {},
     "output_type": "execute_result"
    }
   ],
   "source": [
    "from profanity_check import predict, predict_prob\n",
    "\n",
    "def find_profane(words):\n",
    "    p_words = dict(zip(list(predict(words)) , list(predict_prob(words))))\n",
    "    return p_words\n",
    "\n",
    "result = find_profane(['Fuck You!', 'Love you'])\n",
    "result"
   ]
  },
  {
   "cell_type": "code",
   "execution_count": null,
   "metadata": {},
   "outputs": [],
   "source": [
    "\n",
    "\n",
    "# predict(['fuck you'])\n",
    "# # [1]\n",
    "\n",
    "# predict_prob(['predict_prob() takes an array and returns the probability each string is offensive'])\n",
    "# # [0.08686173]\n",
    "\n",
    "# predict_prob(['i love u'])\n",
    "# # [0.7618861]"
   ]
  }
 ],
 "metadata": {
  "kernelspec": {
   "display_name": "Python 3",
   "language": "python",
   "name": "python3"
  },
  "language_info": {
   "codemirror_mode": {
    "name": "ipython",
    "version": 3
   },
   "file_extension": ".py",
   "mimetype": "text/x-python",
   "name": "python",
   "nbconvert_exporter": "python",
   "pygments_lexer": "ipython3",
   "version": "3.8.3"
  }
 },
 "nbformat": 4,
 "nbformat_minor": 4
}
